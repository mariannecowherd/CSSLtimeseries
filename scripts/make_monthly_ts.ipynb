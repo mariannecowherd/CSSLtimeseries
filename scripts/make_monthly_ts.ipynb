{
 "cells": [
  {
   "cell_type": "code",
   "execution_count": null,
   "metadata": {},
   "outputs": [],
   "source": [
    "import os\n",
    "import matplotlib.pyplot as plt\n",
    "import geopandas as gpd\n",
    "import rasterio as rio\n",
    "import pandas as pd\n",
    "import glob\n",
    "import pickle\n",
    "import numpy as np\n",
    "from csslconstants import *\n",
    "from cmcrameri import cm\n",
    "\n",
    "os.chdir(homedir)\n",
    "\n",
    "## load data from the prep_cssl_data.py process\n",
    "with open(datadir + 'cssldata.pickle', 'rb') as handle:\n",
    "    cssl = pickle.load(handle)"
   ]
  },
  {
   "cell_type": "code",
   "execution_count": null,
   "metadata": {},
   "outputs": [],
   "source": [
    "## get CSSL  monthly data\n"
   ]
  }
 ],
 "metadata": {
  "language_info": {
   "name": "python"
  },
  "orig_nbformat": 4
 },
 "nbformat": 4,
 "nbformat_minor": 2
}
